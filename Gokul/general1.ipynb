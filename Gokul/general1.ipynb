{
  "nbformat": 4,
  "nbformat_minor": 0,
  "metadata": {
    "colab": {
      "provenance": []
    },
    "kernelspec": {
      "name": "python3",
      "display_name": "Python 3"
    },
    "language_info": {
      "name": "python"
    }
  },
  "cells": [
    {
      "cell_type": "code",
      "execution_count": null,
      "metadata": {
        "colab": {
          "base_uri": "https://localhost:8080/",
          "height": 38
        },
        "id": "ZDsiXGKttZOB",
        "outputId": "5fb6f2d6-752b-4367-8e1b-b32e291e80d0"
      },
      "outputs": [
        {
          "output_type": "display_data",
          "data": {
            "text/plain": [
              "<IPython.core.display.HTML object>"
            ],
            "text/html": [
              "\n",
              "     <input type=\"file\" id=\"files-37945b31-f557-4c10-92f1-f455d0ea6fa5\" name=\"files[]\" multiple disabled\n",
              "        style=\"border:none\" />\n",
              "     <output id=\"result-37945b31-f557-4c10-92f1-f455d0ea6fa5\">\n",
              "      Upload widget is only available when the cell has been executed in the\n",
              "      current browser session. Please rerun this cell to enable.\n",
              "      </output>\n",
              "      <script>// Copyright 2017 Google LLC\n",
              "//\n",
              "// Licensed under the Apache License, Version 2.0 (the \"License\");\n",
              "// you may not use this file except in compliance with the License.\n",
              "// You may obtain a copy of the License at\n",
              "//\n",
              "//      http://www.apache.org/licenses/LICENSE-2.0\n",
              "//\n",
              "// Unless required by applicable law or agreed to in writing, software\n",
              "// distributed under the License is distributed on an \"AS IS\" BASIS,\n",
              "// WITHOUT WARRANTIES OR CONDITIONS OF ANY KIND, either express or implied.\n",
              "// See the License for the specific language governing permissions and\n",
              "// limitations under the License.\n",
              "\n",
              "/**\n",
              " * @fileoverview Helpers for google.colab Python module.\n",
              " */\n",
              "(function(scope) {\n",
              "function span(text, styleAttributes = {}) {\n",
              "  const element = document.createElement('span');\n",
              "  element.textContent = text;\n",
              "  for (const key of Object.keys(styleAttributes)) {\n",
              "    element.style[key] = styleAttributes[key];\n",
              "  }\n",
              "  return element;\n",
              "}\n",
              "\n",
              "// Max number of bytes which will be uploaded at a time.\n",
              "const MAX_PAYLOAD_SIZE = 100 * 1024;\n",
              "\n",
              "function _uploadFiles(inputId, outputId) {\n",
              "  const steps = uploadFilesStep(inputId, outputId);\n",
              "  const outputElement = document.getElementById(outputId);\n",
              "  // Cache steps on the outputElement to make it available for the next call\n",
              "  // to uploadFilesContinue from Python.\n",
              "  outputElement.steps = steps;\n",
              "\n",
              "  return _uploadFilesContinue(outputId);\n",
              "}\n",
              "\n",
              "// This is roughly an async generator (not supported in the browser yet),\n",
              "// where there are multiple asynchronous steps and the Python side is going\n",
              "// to poll for completion of each step.\n",
              "// This uses a Promise to block the python side on completion of each step,\n",
              "// then passes the result of the previous step as the input to the next step.\n",
              "function _uploadFilesContinue(outputId) {\n",
              "  const outputElement = document.getElementById(outputId);\n",
              "  const steps = outputElement.steps;\n",
              "\n",
              "  const next = steps.next(outputElement.lastPromiseValue);\n",
              "  return Promise.resolve(next.value.promise).then((value) => {\n",
              "    // Cache the last promise value to make it available to the next\n",
              "    // step of the generator.\n",
              "    outputElement.lastPromiseValue = value;\n",
              "    return next.value.response;\n",
              "  });\n",
              "}\n",
              "\n",
              "/**\n",
              " * Generator function which is called between each async step of the upload\n",
              " * process.\n",
              " * @param {string} inputId Element ID of the input file picker element.\n",
              " * @param {string} outputId Element ID of the output display.\n",
              " * @return {!Iterable<!Object>} Iterable of next steps.\n",
              " */\n",
              "function* uploadFilesStep(inputId, outputId) {\n",
              "  const inputElement = document.getElementById(inputId);\n",
              "  inputElement.disabled = false;\n",
              "\n",
              "  const outputElement = document.getElementById(outputId);\n",
              "  outputElement.innerHTML = '';\n",
              "\n",
              "  const pickedPromise = new Promise((resolve) => {\n",
              "    inputElement.addEventListener('change', (e) => {\n",
              "      resolve(e.target.files);\n",
              "    });\n",
              "  });\n",
              "\n",
              "  const cancel = document.createElement('button');\n",
              "  inputElement.parentElement.appendChild(cancel);\n",
              "  cancel.textContent = 'Cancel upload';\n",
              "  const cancelPromise = new Promise((resolve) => {\n",
              "    cancel.onclick = () => {\n",
              "      resolve(null);\n",
              "    };\n",
              "  });\n",
              "\n",
              "  // Wait for the user to pick the files.\n",
              "  const files = yield {\n",
              "    promise: Promise.race([pickedPromise, cancelPromise]),\n",
              "    response: {\n",
              "      action: 'starting',\n",
              "    }\n",
              "  };\n",
              "\n",
              "  cancel.remove();\n",
              "\n",
              "  // Disable the input element since further picks are not allowed.\n",
              "  inputElement.disabled = true;\n",
              "\n",
              "  if (!files) {\n",
              "    return {\n",
              "      response: {\n",
              "        action: 'complete',\n",
              "      }\n",
              "    };\n",
              "  }\n",
              "\n",
              "  for (const file of files) {\n",
              "    const li = document.createElement('li');\n",
              "    li.append(span(file.name, {fontWeight: 'bold'}));\n",
              "    li.append(span(\n",
              "        `(${file.type || 'n/a'}) - ${file.size} bytes, ` +\n",
              "        `last modified: ${\n",
              "            file.lastModifiedDate ? file.lastModifiedDate.toLocaleDateString() :\n",
              "                                    'n/a'} - `));\n",
              "    const percent = span('0% done');\n",
              "    li.appendChild(percent);\n",
              "\n",
              "    outputElement.appendChild(li);\n",
              "\n",
              "    const fileDataPromise = new Promise((resolve) => {\n",
              "      const reader = new FileReader();\n",
              "      reader.onload = (e) => {\n",
              "        resolve(e.target.result);\n",
              "      };\n",
              "      reader.readAsArrayBuffer(file);\n",
              "    });\n",
              "    // Wait for the data to be ready.\n",
              "    let fileData = yield {\n",
              "      promise: fileDataPromise,\n",
              "      response: {\n",
              "        action: 'continue',\n",
              "      }\n",
              "    };\n",
              "\n",
              "    // Use a chunked sending to avoid message size limits. See b/62115660.\n",
              "    let position = 0;\n",
              "    do {\n",
              "      const length = Math.min(fileData.byteLength - position, MAX_PAYLOAD_SIZE);\n",
              "      const chunk = new Uint8Array(fileData, position, length);\n",
              "      position += length;\n",
              "\n",
              "      const base64 = btoa(String.fromCharCode.apply(null, chunk));\n",
              "      yield {\n",
              "        response: {\n",
              "          action: 'append',\n",
              "          file: file.name,\n",
              "          data: base64,\n",
              "        },\n",
              "      };\n",
              "\n",
              "      let percentDone = fileData.byteLength === 0 ?\n",
              "          100 :\n",
              "          Math.round((position / fileData.byteLength) * 100);\n",
              "      percent.textContent = `${percentDone}% done`;\n",
              "\n",
              "    } while (position < fileData.byteLength);\n",
              "  }\n",
              "\n",
              "  // All done.\n",
              "  yield {\n",
              "    response: {\n",
              "      action: 'complete',\n",
              "    }\n",
              "  };\n",
              "}\n",
              "\n",
              "scope.google = scope.google || {};\n",
              "scope.google.colab = scope.google.colab || {};\n",
              "scope.google.colab._files = {\n",
              "  _uploadFiles,\n",
              "  _uploadFilesContinue,\n",
              "};\n",
              "})(self);\n",
              "</script> "
            ]
          },
          "metadata": {}
        }
      ],
      "source": [
        "from google.colab import files\n",
        "upload = files.upload()"
      ]
    },
    {
      "cell_type": "code",
      "source": [
        "! unzip \"tcpSyn-arpPoison Generalization\".zip"
      ],
      "metadata": {
        "colab": {
          "base_uri": "https://localhost:8080/"
        },
        "id": "vg12_PXu5s5Y",
        "outputId": "6c2303eb-8c52-4a38-f7c3-5cfb0d0fa2c0"
      },
      "execution_count": null,
      "outputs": [
        {
          "output_type": "stream",
          "name": "stdout",
          "text": [
            "Archive:  tcpSyn-arpPoison Generalization.zip\n",
            "replace tcpSyn-arpPoison Generalization/arp-poison.csv? [y]es, [n]o, [A]ll, [N]one, [r]ename: n\n",
            "replace tcpSyn-arpPoison Generalization/proc-tcp-syn.csv? [y]es, [n]o, [A]ll, [N]one, [r]ename: n\n"
          ]
        }
      ]
    },
    {
      "cell_type": "code",
      "source": [
        "import csv\n",
        "import tensorflow as tf\n",
        "import numpy as np\n",
        "import ipaddress"
      ],
      "metadata": {
        "id": "-ae_KoF9XT2o"
      },
      "execution_count": null,
      "outputs": []
    },
    {
      "cell_type": "code",
      "source": [
        "import re\n",
        "def mac_to_int(mac):\n",
        "    res = re.match('^((?:(?:[0-9a-f]{2}):){5}[0-9a-f]{2})$', mac.lower())\n",
        "    if res is None:\n",
        "        raise ValueError('invalid mac address')\n",
        "    return int(res.group(0).replace(':', ''), 16)"
      ],
      "metadata": {
        "id": "f360MseUfq9h"
      },
      "execution_count": null,
      "outputs": []
    },
    {
      "cell_type": "code",
      "source": [
        "datafile = open('tcpSyn-arpPoison Generalization/proc-tcp-syn.csv','r')\n",
        "csvr = csv.reader(datafile)\n",
        "next(csvr)\n",
        "data = []\n",
        "label = []\n",
        "for row in csvr:\n",
        "  row[0] = mac_to_int(row[0])\n",
        "  row[1] = mac_to_int(row[1])\n",
        "  if row[2] == '':\n",
        "    row[2] = 00000000\n",
        "  else:\n",
        "    row[2] = int(ipaddress.ip_address(row[2]))\n",
        "  if row[3] == '':\n",
        "    row[3] = 00000000\n",
        "  else:\n",
        "    row[3] = int(ipaddress.ip_address(row[3]))\n",
        "  data.append(row[0:-1])\n",
        "  label.append(row[-1])"
      ],
      "metadata": {
        "id": "JixULkXWXaOd"
      },
      "execution_count": null,
      "outputs": []
    },
    {
      "cell_type": "code",
      "source": [
        "for i,r in enumerate(label):\n",
        "  if r == 'benign':\n",
        "    label[i] = 0\n",
        "  else:\n",
        "    label[i] = 1"
      ],
      "metadata": {
        "id": "tAmILrKHXp87"
      },
      "execution_count": null,
      "outputs": []
    },
    {
      "cell_type": "code",
      "source": [
        "train_data = np.asarray(data[0 : int(len(data) * 0.8)])\n",
        "valid_data = np.asarray(data[int(len(data) * 0.8) : int(len(data) * 0.9)])\n",
        "test_data = np.asarray(data[int(len(data) * 0.9) : ])\n",
        "\n",
        "train_label = np.asarray(label[0 : int(len(label) * 0.8)])\n",
        "valid_label = np.asarray(label[int(len(label) * 0.8) : int(len(label) * 0.9)])\n",
        "test_label = np.asarray(label[int(len(label) * 0.9) : ])\n",
        "\n",
        "train_label = tf.keras.utils.to_categorical(train_label, 2)\n",
        "valid_label = tf.keras.utils.to_categorical(valid_label, 2)\n",
        "test_label = tf.keras.utils.to_categorical(test_label, 2)"
      ],
      "metadata": {
        "id": "hbNTtSfeYUCb"
      },
      "execution_count": null,
      "outputs": []
    },
    {
      "cell_type": "code",
      "source": [
        "input_size = len(train_data[0])\n",
        "output_size = len(set(label))\n",
        "hidden_layer_size = 75\n",
        "ACT_FN = 'relu'\n",
        "\n",
        "model = tf.keras.Sequential([\n",
        "          tf.keras.layers.Dense(30, input_dim=input_size, kernel_initializer='uniform', activation='relu'), # input layer\n",
        "\n",
        "          tf.keras.layers.Dense(hidden_layer_size, activation=ACT_FN), # 1st hidden layer\n",
        "          tf.keras.layers.Dense(hidden_layer_size, activation=ACT_FN), # 2nd hidden layer\n",
        "          tf.keras.layers.Dense(hidden_layer_size, activation=ACT_FN), # 3nd hidden layer\n",
        "          tf.keras.layers.Dense(hidden_layer_size, activation=ACT_FN), # 4nd hidden layer\n",
        "          tf.keras.layers.Dense(output_size, activation='softmax') # output layer\n",
        "])\n",
        "\n",
        "print(model.summary())"
      ],
      "metadata": {
        "colab": {
          "base_uri": "https://localhost:8080/"
        },
        "id": "umj_7YYwZvxi",
        "outputId": "ca14fb40-b413-4aea-e678-99d20e1bc78e"
      },
      "execution_count": null,
      "outputs": [
        {
          "output_type": "stream",
          "name": "stdout",
          "text": [
            "Model: \"sequential_5\"\n",
            "_________________________________________________________________\n",
            " Layer (type)                Output Shape              Param #   \n",
            "=================================================================\n",
            " dense_30 (Dense)            (None, 30)                150       \n",
            "                                                                 \n",
            " dense_31 (Dense)            (None, 75)                2325      \n",
            "                                                                 \n",
            " dense_32 (Dense)            (None, 75)                5700      \n",
            "                                                                 \n",
            " dense_33 (Dense)            (None, 75)                5700      \n",
            "                                                                 \n",
            " dense_34 (Dense)            (None, 75)                5700      \n",
            "                                                                 \n",
            " dense_35 (Dense)            (None, 2)                 152       \n",
            "                                                                 \n",
            "=================================================================\n",
            "Total params: 19,727\n",
            "Trainable params: 19,727\n",
            "Non-trainable params: 0\n",
            "_________________________________________________________________\n",
            "None\n"
          ]
        }
      ]
    },
    {
      "cell_type": "code",
      "source": [
        "model.compile(optimizer='adam', loss='categorical_crossentropy', metrics=['accuracy'])"
      ],
      "metadata": {
        "id": "X8cWv28TZ05F"
      },
      "execution_count": null,
      "outputs": []
    },
    {
      "cell_type": "code",
      "source": [
        "from keras.callbacks import TensorBoard\n",
        "early_stopping = tf.keras.callbacks.EarlyStopping(patience=5)\n",
        "max_epochs = 2\n",
        "BATCH_SIZE = 2"
      ],
      "metadata": {
        "id": "MfO_5T_eZ47d"
      },
      "execution_count": null,
      "outputs": []
    },
    {
      "cell_type": "code",
      "source": [
        "model.fit(train_data,\n",
        "          train_label,\n",
        "          # batch_size=BATCH_SIZE,\n",
        "          epochs=max_epochs,\n",
        "          # callbacks=tb,\n",
        "          validation_data=(valid_data, valid_label),\n",
        "          validation_steps=10,\n",
        "          verbose=1\n",
        "          )"
      ],
      "metadata": {
        "colab": {
          "base_uri": "https://localhost:8080/"
        },
        "id": "k6q1iVdMZ5kV",
        "outputId": "b112f242-142a-4787-fa09-c9afcbba203a"
      },
      "execution_count": null,
      "outputs": [
        {
          "output_type": "stream",
          "name": "stdout",
          "text": [
            "Epoch 1/2\n",
            "38424/38424 [==============================] - 97s 3ms/step - loss: 403.3133 - accuracy: 0.9029 - val_loss: 0.0994 - val_accuracy: 1.0000\n",
            "Epoch 2/2\n",
            "38424/38424 [==============================] - 96s 2ms/step - loss: 0.3110 - accuracy: 0.9064 - val_loss: 0.0937 - val_accuracy: 1.0000\n"
          ]
        },
        {
          "output_type": "execute_result",
          "data": {
            "text/plain": [
              "<keras.callbacks.History at 0x7ff170a117e0>"
            ]
          },
          "metadata": {},
          "execution_count": 138
        }
      ]
    },
    {
      "cell_type": "code",
      "source": [
        "test_loss, test_accuracy = model.evaluate(test_data, test_label)"
      ],
      "metadata": {
        "colab": {
          "base_uri": "https://localhost:8080/"
        },
        "id": "KfenHR0_aDOv",
        "outputId": "5d54a801-096f-48f2-f389-1b991ca37cff"
      },
      "execution_count": null,
      "outputs": [
        {
          "output_type": "stream",
          "name": "stdout",
          "text": [
            "4803/4803 [==============================] - 8s 2ms/step - loss: 0.0937 - accuracy: 1.0000\n"
          ]
        }
      ]
    },
    {
      "cell_type": "code",
      "source": [
        "print('Test loss: {0:.2f}. Test accuracy: {1:.2f}%'.format(test_loss, test_accuracy*100.))"
      ],
      "metadata": {
        "colab": {
          "base_uri": "https://localhost:8080/"
        },
        "id": "fy9XJVfAaFdT",
        "outputId": "cdf7b9bf-5943-4e1f-c064-0e384cab4a94"
      },
      "execution_count": null,
      "outputs": [
        {
          "output_type": "stream",
          "name": "stdout",
          "text": [
            "Test loss: 0.09. Test accuracy: 100.00%\n"
          ]
        }
      ]
    },
    {
      "cell_type": "code",
      "source": [
        "# \n",
        "#  TESTING MODEL ON AN ENTIRELY NEW DATASET\n",
        "#"
      ],
      "metadata": {
        "id": "4C5hCDe_hCMn"
      },
      "execution_count": null,
      "outputs": []
    },
    {
      "cell_type": "code",
      "source": [
        "datafile2 = open('tcpSyn-arpPoison Generalization/arp-poison.csv','r')\n",
        "csvr2 = csv.reader(datafile2)\n",
        "next(csvr2)\n",
        "data2 = []\n",
        "label2 = []\n",
        "for row in csvr2:\n",
        "  row[0] = mac_to_int(row[0])\n",
        "  row[1] = mac_to_int(row[1])\n",
        "  if row[2] == '':\n",
        "    row[2] = 00000000\n",
        "  else:\n",
        "    row[2] = int(ipaddress.ip_address(row[2]))\n",
        "  if row[3] == '':\n",
        "    row[3] = 00000000\n",
        "  else:\n",
        "    row[3] = int(ipaddress.ip_address(row[3]))\n",
        "  data2.append(row[0:-1])\n",
        "  label2.append(int(row[-1]))"
      ],
      "metadata": {
        "id": "wgwPH3oOhKCq"
      },
      "execution_count": null,
      "outputs": []
    },
    {
      "cell_type": "code",
      "source": [
        "for i,r in enumerate(label2):\n",
        "  if r > 0:\n",
        "    label2[i] = 1\n",
        "  else:\n",
        "    label2[i] = 0"
      ],
      "metadata": {
        "id": "SNwxtpYchh9r"
      },
      "execution_count": null,
      "outputs": []
    },
    {
      "cell_type": "code",
      "source": [
        "test_data2 = np.asarray(data2)\n",
        "test_label2 = tf.keras.utils.to_categorical(label2, 2)"
      ],
      "metadata": {
        "id": "uPMv7N_KhoLi"
      },
      "execution_count": null,
      "outputs": []
    },
    {
      "cell_type": "code",
      "source": [
        "test_loss2, test_accuracy2 = model.evaluate(test_data2, test_label2)"
      ],
      "metadata": {
        "colab": {
          "base_uri": "https://localhost:8080/"
        },
        "id": "5_rcxDrqkaOj",
        "outputId": "0d65a06d-f770-4e61-de48-7dc70bc8ff9c"
      },
      "execution_count": null,
      "outputs": [
        {
          "output_type": "stream",
          "name": "stdout",
          "text": [
            "4188/4188 [==============================] - 7s 2ms/step - loss: 178209232519168.0000 - accuracy: 0.2514\n"
          ]
        }
      ]
    },
    {
      "cell_type": "code",
      "source": [
        "print('Test loss: {0:.2f}. Test accuracy: {1:.2f}%'.format(test_loss2, test_accuracy2*100.))"
      ],
      "metadata": {
        "colab": {
          "base_uri": "https://localhost:8080/"
        },
        "id": "qVGHlVs2k9Ms",
        "outputId": "8fda1d17-2ef1-4e44-91dd-4586cb1424f6"
      },
      "execution_count": null,
      "outputs": [
        {
          "output_type": "stream",
          "name": "stdout",
          "text": [
            "Test loss: 178209232519168.00. Test accuracy: 25.14%\n"
          ]
        }
      ]
    }
  ]
}