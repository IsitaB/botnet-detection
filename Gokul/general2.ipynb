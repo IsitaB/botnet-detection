{
  "nbformat": 4,
  "nbformat_minor": 0,
  "metadata": {
    "colab": {
      "provenance": []
    },
    "kernelspec": {
      "name": "python3",
      "display_name": "Python 3"
    },
    "language_info": {
      "name": "python"
    }
  },
  "cells": [
    {
      "cell_type": "code",
      "execution_count": null,
      "metadata": {
        "colab": {
          "base_uri": "https://localhost:8080/",
          "height": 73
        },
        "id": "pv2WKsCtqOXv",
        "outputId": "5b1fdb18-6d65-4a55-8d75-91cf2590d73e"
      },
      "outputs": [
        {
          "output_type": "display_data",
          "data": {
            "text/plain": [
              "<IPython.core.display.HTML object>"
            ],
            "text/html": [
              "\n",
              "     <input type=\"file\" id=\"files-16d3362f-9712-442a-b2d0-db58cfeb0f33\" name=\"files[]\" multiple disabled\n",
              "        style=\"border:none\" />\n",
              "     <output id=\"result-16d3362f-9712-442a-b2d0-db58cfeb0f33\">\n",
              "      Upload widget is only available when the cell has been executed in the\n",
              "      current browser session. Please rerun this cell to enable.\n",
              "      </output>\n",
              "      <script>// Copyright 2017 Google LLC\n",
              "//\n",
              "// Licensed under the Apache License, Version 2.0 (the \"License\");\n",
              "// you may not use this file except in compliance with the License.\n",
              "// You may obtain a copy of the License at\n",
              "//\n",
              "//      http://www.apache.org/licenses/LICENSE-2.0\n",
              "//\n",
              "// Unless required by applicable law or agreed to in writing, software\n",
              "// distributed under the License is distributed on an \"AS IS\" BASIS,\n",
              "// WITHOUT WARRANTIES OR CONDITIONS OF ANY KIND, either express or implied.\n",
              "// See the License for the specific language governing permissions and\n",
              "// limitations under the License.\n",
              "\n",
              "/**\n",
              " * @fileoverview Helpers for google.colab Python module.\n",
              " */\n",
              "(function(scope) {\n",
              "function span(text, styleAttributes = {}) {\n",
              "  const element = document.createElement('span');\n",
              "  element.textContent = text;\n",
              "  for (const key of Object.keys(styleAttributes)) {\n",
              "    element.style[key] = styleAttributes[key];\n",
              "  }\n",
              "  return element;\n",
              "}\n",
              "\n",
              "// Max number of bytes which will be uploaded at a time.\n",
              "const MAX_PAYLOAD_SIZE = 100 * 1024;\n",
              "\n",
              "function _uploadFiles(inputId, outputId) {\n",
              "  const steps = uploadFilesStep(inputId, outputId);\n",
              "  const outputElement = document.getElementById(outputId);\n",
              "  // Cache steps on the outputElement to make it available for the next call\n",
              "  // to uploadFilesContinue from Python.\n",
              "  outputElement.steps = steps;\n",
              "\n",
              "  return _uploadFilesContinue(outputId);\n",
              "}\n",
              "\n",
              "// This is roughly an async generator (not supported in the browser yet),\n",
              "// where there are multiple asynchronous steps and the Python side is going\n",
              "// to poll for completion of each step.\n",
              "// This uses a Promise to block the python side on completion of each step,\n",
              "// then passes the result of the previous step as the input to the next step.\n",
              "function _uploadFilesContinue(outputId) {\n",
              "  const outputElement = document.getElementById(outputId);\n",
              "  const steps = outputElement.steps;\n",
              "\n",
              "  const next = steps.next(outputElement.lastPromiseValue);\n",
              "  return Promise.resolve(next.value.promise).then((value) => {\n",
              "    // Cache the last promise value to make it available to the next\n",
              "    // step of the generator.\n",
              "    outputElement.lastPromiseValue = value;\n",
              "    return next.value.response;\n",
              "  });\n",
              "}\n",
              "\n",
              "/**\n",
              " * Generator function which is called between each async step of the upload\n",
              " * process.\n",
              " * @param {string} inputId Element ID of the input file picker element.\n",
              " * @param {string} outputId Element ID of the output display.\n",
              " * @return {!Iterable<!Object>} Iterable of next steps.\n",
              " */\n",
              "function* uploadFilesStep(inputId, outputId) {\n",
              "  const inputElement = document.getElementById(inputId);\n",
              "  inputElement.disabled = false;\n",
              "\n",
              "  const outputElement = document.getElementById(outputId);\n",
              "  outputElement.innerHTML = '';\n",
              "\n",
              "  const pickedPromise = new Promise((resolve) => {\n",
              "    inputElement.addEventListener('change', (e) => {\n",
              "      resolve(e.target.files);\n",
              "    });\n",
              "  });\n",
              "\n",
              "  const cancel = document.createElement('button');\n",
              "  inputElement.parentElement.appendChild(cancel);\n",
              "  cancel.textContent = 'Cancel upload';\n",
              "  const cancelPromise = new Promise((resolve) => {\n",
              "    cancel.onclick = () => {\n",
              "      resolve(null);\n",
              "    };\n",
              "  });\n",
              "\n",
              "  // Wait for the user to pick the files.\n",
              "  const files = yield {\n",
              "    promise: Promise.race([pickedPromise, cancelPromise]),\n",
              "    response: {\n",
              "      action: 'starting',\n",
              "    }\n",
              "  };\n",
              "\n",
              "  cancel.remove();\n",
              "\n",
              "  // Disable the input element since further picks are not allowed.\n",
              "  inputElement.disabled = true;\n",
              "\n",
              "  if (!files) {\n",
              "    return {\n",
              "      response: {\n",
              "        action: 'complete',\n",
              "      }\n",
              "    };\n",
              "  }\n",
              "\n",
              "  for (const file of files) {\n",
              "    const li = document.createElement('li');\n",
              "    li.append(span(file.name, {fontWeight: 'bold'}));\n",
              "    li.append(span(\n",
              "        `(${file.type || 'n/a'}) - ${file.size} bytes, ` +\n",
              "        `last modified: ${\n",
              "            file.lastModifiedDate ? file.lastModifiedDate.toLocaleDateString() :\n",
              "                                    'n/a'} - `));\n",
              "    const percent = span('0% done');\n",
              "    li.appendChild(percent);\n",
              "\n",
              "    outputElement.appendChild(li);\n",
              "\n",
              "    const fileDataPromise = new Promise((resolve) => {\n",
              "      const reader = new FileReader();\n",
              "      reader.onload = (e) => {\n",
              "        resolve(e.target.result);\n",
              "      };\n",
              "      reader.readAsArrayBuffer(file);\n",
              "    });\n",
              "    // Wait for the data to be ready.\n",
              "    let fileData = yield {\n",
              "      promise: fileDataPromise,\n",
              "      response: {\n",
              "        action: 'continue',\n",
              "      }\n",
              "    };\n",
              "\n",
              "    // Use a chunked sending to avoid message size limits. See b/62115660.\n",
              "    let position = 0;\n",
              "    do {\n",
              "      const length = Math.min(fileData.byteLength - position, MAX_PAYLOAD_SIZE);\n",
              "      const chunk = new Uint8Array(fileData, position, length);\n",
              "      position += length;\n",
              "\n",
              "      const base64 = btoa(String.fromCharCode.apply(null, chunk));\n",
              "      yield {\n",
              "        response: {\n",
              "          action: 'append',\n",
              "          file: file.name,\n",
              "          data: base64,\n",
              "        },\n",
              "      };\n",
              "\n",
              "      let percentDone = fileData.byteLength === 0 ?\n",
              "          100 :\n",
              "          Math.round((position / fileData.byteLength) * 100);\n",
              "      percent.textContent = `${percentDone}% done`;\n",
              "\n",
              "    } while (position < fileData.byteLength);\n",
              "  }\n",
              "\n",
              "  // All done.\n",
              "  yield {\n",
              "    response: {\n",
              "      action: 'complete',\n",
              "    }\n",
              "  };\n",
              "}\n",
              "\n",
              "scope.google = scope.google || {};\n",
              "scope.google.colab = scope.google.colab || {};\n",
              "scope.google.colab._files = {\n",
              "  _uploadFiles,\n",
              "  _uploadFilesContinue,\n",
              "};\n",
              "})(self);\n",
              "</script> "
            ]
          },
          "metadata": {}
        },
        {
          "output_type": "stream",
          "name": "stdout",
          "text": [
            "Saving tcpSyn-APAddos.zip to tcpSyn-APAddos.zip\n"
          ]
        }
      ],
      "source": [
        "from google.colab import files\n",
        "upload = files.upload()"
      ]
    },
    {
      "cell_type": "code",
      "source": [
        "! unzip \"tcpSyn-APAddos\".zip"
      ],
      "metadata": {
        "colab": {
          "base_uri": "https://localhost:8080/"
        },
        "id": "c3LGB7XeqSgR",
        "outputId": "e9cffcfd-d955-4c73-8dfc-4928324b2a41"
      },
      "execution_count": null,
      "outputs": [
        {
          "output_type": "stream",
          "name": "stdout",
          "text": [
            "Archive:  tcpSyn-APAddos.zip\n",
            "  inflating: proc-model2-tcp-syn.csv  \n",
            "  inflating: model2-apa-ddos.csv     \n"
          ]
        }
      ]
    },
    {
      "cell_type": "code",
      "source": [
        "import csv\n",
        "import tensorflow as tf\n",
        "import numpy as np\n",
        "import ipaddress"
      ],
      "metadata": {
        "id": "7zTxymOrqh8l"
      },
      "execution_count": null,
      "outputs": []
    },
    {
      "cell_type": "code",
      "source": [
        "datafile = open('proc-model2-tcp-syn.csv','r')\n",
        "csvr = csv.reader(datafile)\n",
        "next(csvr)\n",
        "data = []\n",
        "label = []\n",
        "for row in csvr:\n",
        "  if row[0] == '':\n",
        "    continue\n",
        "  row[0] = int(ipaddress.ip_address(row[0]))\n",
        "  row[1] = int(ipaddress.ip_address(row[1]))\n",
        "  row[2] = int(row[2])\n",
        "  row[3] = int(row[3])\n",
        "  row[4] = int(row[4])\n",
        "  row[5] = int(row[5])\n",
        "  row[6] = int(row[6])\n",
        "  row[7] = int(row[7])\n",
        "  data.append(row[0:-1])\n",
        "  label.append(row[-1])"
      ],
      "metadata": {
        "id": "BTblNCdAqknu"
      },
      "execution_count": null,
      "outputs": []
    },
    {
      "cell_type": "code",
      "source": [
        "for i,r in enumerate(label):\n",
        "  if r == 'benign':\n",
        "    label[i] = 0\n",
        "  else:\n",
        "    label[i] = 1"
      ],
      "metadata": {
        "id": "3GxpEcwyqyCe"
      },
      "execution_count": null,
      "outputs": []
    },
    {
      "cell_type": "code",
      "source": [
        "train_data = np.asarray(data[0 : int(len(data) * 0.8)])\n",
        "valid_data = np.asarray(data[int(len(data) * 0.8) : int(len(data) * 0.9)])\n",
        "test_data = np.asarray(data[int(len(data) * 0.9) : ])\n",
        "\n",
        "train_label = np.asarray(label[0 : int(len(label) * 0.8)])\n",
        "valid_label = np.asarray(label[int(len(label) * 0.8) : int(len(label) * 0.9)])\n",
        "test_label = np.asarray(label[int(len(label) * 0.9) : ])\n",
        "\n",
        "train_label = tf.keras.utils.to_categorical(train_label, 2)\n",
        "valid_label = tf.keras.utils.to_categorical(valid_label, 2)\n",
        "test_label = tf.keras.utils.to_categorical(test_label, 2)"
      ],
      "metadata": {
        "id": "-LnRiUekrdXS"
      },
      "execution_count": null,
      "outputs": []
    },
    {
      "cell_type": "code",
      "source": [
        "input_size = len(train_data[0])\n",
        "output_size = len(set(label))\n",
        "hidden_layer_size = 75\n",
        "ACT_FN = 'relu'\n",
        "\n",
        "model = tf.keras.Sequential([\n",
        "          tf.keras.layers.Dense(30, input_dim=input_size, kernel_initializer='uniform', activation='relu'), # input layer\n",
        "\n",
        "          tf.keras.layers.Dense(hidden_layer_size, activation=ACT_FN), # 1st hidden layer\n",
        "          tf.keras.layers.Dense(hidden_layer_size, activation=ACT_FN), # 2nd hidden layer\n",
        "          tf.keras.layers.Dense(hidden_layer_size, activation=ACT_FN), # 3nd hidden layer\n",
        "          tf.keras.layers.Dense(hidden_layer_size, activation=ACT_FN), # 4nd hidden layer\n",
        "          tf.keras.layers.Dense(output_size, activation='softmax') # output layer\n",
        "])\n",
        "\n",
        "print(model.summary())"
      ],
      "metadata": {
        "colab": {
          "base_uri": "https://localhost:8080/"
        },
        "id": "5fpYua5qrhiM",
        "outputId": "406bc9ee-a916-4ad1-fa89-769194ea5766"
      },
      "execution_count": null,
      "outputs": [
        {
          "output_type": "stream",
          "name": "stdout",
          "text": [
            "Model: \"sequential_4\"\n",
            "_________________________________________________________________\n",
            " Layer (type)                Output Shape              Param #   \n",
            "=================================================================\n",
            " dense_24 (Dense)            (None, 30)                270       \n",
            "                                                                 \n",
            " dense_25 (Dense)            (None, 75)                2325      \n",
            "                                                                 \n",
            " dense_26 (Dense)            (None, 75)                5700      \n",
            "                                                                 \n",
            " dense_27 (Dense)            (None, 75)                5700      \n",
            "                                                                 \n",
            " dense_28 (Dense)            (None, 75)                5700      \n",
            "                                                                 \n",
            " dense_29 (Dense)            (None, 2)                 152       \n",
            "                                                                 \n",
            "=================================================================\n",
            "Total params: 19,847\n",
            "Trainable params: 19,847\n",
            "Non-trainable params: 0\n",
            "_________________________________________________________________\n",
            "None\n"
          ]
        }
      ]
    },
    {
      "cell_type": "code",
      "source": [
        "model.compile(optimizer='adam', loss='categorical_crossentropy', metrics=['accuracy'])"
      ],
      "metadata": {
        "id": "kQzvlcTArjPF"
      },
      "execution_count": null,
      "outputs": []
    },
    {
      "cell_type": "code",
      "source": [
        "from keras.callbacks import TensorBoard\n",
        "early_stopping = tf.keras.callbacks.EarlyStopping(patience=5)\n",
        "max_epochs = 2\n",
        "BATCH_SIZE = 2"
      ],
      "metadata": {
        "id": "fm6tbZd1rkeY"
      },
      "execution_count": null,
      "outputs": []
    },
    {
      "cell_type": "code",
      "source": [
        "model.fit(train_data,\n",
        "          train_label,\n",
        "          # batch_size=BATCH_SIZE,\n",
        "          epochs=max_epochs,\n",
        "          # callbacks=tb,\n",
        "          validation_data=(valid_data, valid_label),\n",
        "          validation_steps=10,\n",
        "          verbose=1\n",
        "          )"
      ],
      "metadata": {
        "colab": {
          "base_uri": "https://localhost:8080/"
        },
        "id": "ayfX7Ms5rl3m",
        "outputId": "1e942d3c-988e-4a76-ac6a-625a1f212fe5"
      },
      "execution_count": null,
      "outputs": [
        {
          "output_type": "stream",
          "name": "stdout",
          "text": [
            "Epoch 1/2\n",
            "38383/38383 [==============================] - 105s 3ms/step - loss: 499.2160 - accuracy: 0.9037 - val_loss: 0.1082 - val_accuracy: 1.0000\n",
            "Epoch 2/2\n",
            "38383/38383 [==============================] - 111s 3ms/step - loss: 17.6420 - accuracy: 0.9062 - val_loss: 0.0913 - val_accuracy: 1.0000\n"
          ]
        },
        {
          "output_type": "execute_result",
          "data": {
            "text/plain": [
              "<keras.callbacks.History at 0x7fb4767e3670>"
            ]
          },
          "metadata": {},
          "execution_count": 56
        }
      ]
    },
    {
      "cell_type": "code",
      "source": [
        "test_loss, test_accuracy = model.evaluate(test_data, test_label)"
      ],
      "metadata": {
        "colab": {
          "base_uri": "https://localhost:8080/"
        },
        "id": "WZXg2T-XuuPl",
        "outputId": "1f0e5213-4db3-4916-8551-82e198b6413b"
      },
      "execution_count": null,
      "outputs": [
        {
          "output_type": "stream",
          "name": "stdout",
          "text": [
            "4798/4798 [==============================] - 8s 2ms/step - loss: 0.0851 - accuracy: 1.0000\n"
          ]
        }
      ]
    },
    {
      "cell_type": "code",
      "source": [
        "print('Test loss: {0:.2f}. Test accuracy: {1:.2f}%'.format(test_loss, test_accuracy*100.))"
      ],
      "metadata": {
        "colab": {
          "base_uri": "https://localhost:8080/"
        },
        "id": "qWkiyu2Nuvdk",
        "outputId": "e848d0f7-b7e4-48e2-e809-0cd9be4e1cf0"
      },
      "execution_count": null,
      "outputs": [
        {
          "output_type": "stream",
          "name": "stdout",
          "text": [
            "Test loss: 0.09. Test accuracy: 100.00%\n"
          ]
        }
      ]
    },
    {
      "cell_type": "code",
      "source": [
        "# \n",
        "#  TESTING MODEL ON AN ENTIRELY NEW DATASET\n",
        "#"
      ],
      "metadata": {
        "id": "xVEkk5BburRE"
      },
      "execution_count": null,
      "outputs": []
    },
    {
      "cell_type": "code",
      "source": [
        "datafile2 = open('model2-apa-ddos.csv','r')\n",
        "csvr2 = csv.reader(datafile2)\n",
        "next(csvr2)\n",
        "data2 = []\n",
        "label2 = []\n",
        "for row in csvr2:\n",
        "  if row[0] == '':\n",
        "    continue\n",
        "  row[0] = int(ipaddress.ip_address(row[0]))\n",
        "  row[1] = int(ipaddress.ip_address(row[1]))\n",
        "  row[2] = int(row[2])\n",
        "  row[3] = int(row[3])\n",
        "  row[4] = int(row[4])\n",
        "  row[5] = int(row[5])\n",
        "  row[6] = int(row[6])\n",
        "  row[7] = int(row[7])\n",
        "  data2.append(row[0:-1])\n",
        "  label2.append(row[-1])"
      ],
      "metadata": {
        "id": "BS4sFHeXuxlL"
      },
      "execution_count": null,
      "outputs": []
    },
    {
      "cell_type": "code",
      "source": [
        "for i,r in enumerate(label2):\n",
        "  if r == 'Benign':\n",
        "    label2[i] = 0\n",
        "  else:\n",
        "    label2[i] = 1"
      ],
      "metadata": {
        "id": "bq5ji05xu_Ko"
      },
      "execution_count": null,
      "outputs": []
    },
    {
      "cell_type": "code",
      "source": [
        "test_data2 = np.asarray(data2)\n",
        "test_label2 = tf.keras.utils.to_categorical(label2, 2)"
      ],
      "metadata": {
        "id": "Vr38nKUpvKOr"
      },
      "execution_count": null,
      "outputs": []
    },
    {
      "cell_type": "code",
      "source": [
        "test_loss2, test_accuracy2 = model.evaluate(test_data2, test_label2)"
      ],
      "metadata": {
        "colab": {
          "base_uri": "https://localhost:8080/"
        },
        "id": "qTYP-bNrvRv9",
        "outputId": "824a06e3-c3a0-4f4a-b2ea-ef24cee26ebb"
      },
      "execution_count": null,
      "outputs": [
        {
          "output_type": "stream",
          "name": "stdout",
          "text": [
            "4725/4725 [==============================] - 9s 2ms/step - loss: 1.2302 - accuracy: 0.5000\n"
          ]
        }
      ]
    },
    {
      "cell_type": "code",
      "source": [
        "print('Test loss: {0:.2f}. Test accuracy: {1:.2f}%'.format(test_loss2, test_accuracy2*100.))"
      ],
      "metadata": {
        "colab": {
          "base_uri": "https://localhost:8080/"
        },
        "id": "suoJ5RpfvStn",
        "outputId": "ac4367e7-1269-48d3-ff1d-fc8061df47b8"
      },
      "execution_count": null,
      "outputs": [
        {
          "output_type": "stream",
          "name": "stdout",
          "text": [
            "Test loss: 1.23. Test accuracy: 50.00%\n"
          ]
        }
      ]
    }
  ]
}