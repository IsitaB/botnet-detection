{
  "nbformat": 4,
  "nbformat_minor": 0,
  "metadata": {
    "colab": {
      "provenance": []
    },
    "kernelspec": {
      "name": "python3",
      "display_name": "Python 3"
    },
    "language_info": {
      "name": "python"
    }
  },
  "cells": [
    {
      "cell_type": "code",
      "execution_count": null,
      "metadata": {
        "id": "3KWuMG3CfSPW",
        "colab": {
          "base_uri": "https://localhost:8080/",
          "height": 73
        },
        "outputId": "a65ae294-8567-4818-9c26-cc17e6d20883"
      },
      "outputs": [
        {
          "output_type": "display_data",
          "data": {
            "text/plain": [
              "<IPython.core.display.HTML object>"
            ],
            "text/html": [
              "\n",
              "     <input type=\"file\" id=\"files-3d0c4496-321d-4aaa-a9a5-bb759fc662a7\" name=\"files[]\" multiple disabled\n",
              "        style=\"border:none\" />\n",
              "     <output id=\"result-3d0c4496-321d-4aaa-a9a5-bb759fc662a7\">\n",
              "      Upload widget is only available when the cell has been executed in the\n",
              "      current browser session. Please rerun this cell to enable.\n",
              "      </output>\n",
              "      <script>// Copyright 2017 Google LLC\n",
              "//\n",
              "// Licensed under the Apache License, Version 2.0 (the \"License\");\n",
              "// you may not use this file except in compliance with the License.\n",
              "// You may obtain a copy of the License at\n",
              "//\n",
              "//      http://www.apache.org/licenses/LICENSE-2.0\n",
              "//\n",
              "// Unless required by applicable law or agreed to in writing, software\n",
              "// distributed under the License is distributed on an \"AS IS\" BASIS,\n",
              "// WITHOUT WARRANTIES OR CONDITIONS OF ANY KIND, either express or implied.\n",
              "// See the License for the specific language governing permissions and\n",
              "// limitations under the License.\n",
              "\n",
              "/**\n",
              " * @fileoverview Helpers for google.colab Python module.\n",
              " */\n",
              "(function(scope) {\n",
              "function span(text, styleAttributes = {}) {\n",
              "  const element = document.createElement('span');\n",
              "  element.textContent = text;\n",
              "  for (const key of Object.keys(styleAttributes)) {\n",
              "    element.style[key] = styleAttributes[key];\n",
              "  }\n",
              "  return element;\n",
              "}\n",
              "\n",
              "// Max number of bytes which will be uploaded at a time.\n",
              "const MAX_PAYLOAD_SIZE = 100 * 1024;\n",
              "\n",
              "function _uploadFiles(inputId, outputId) {\n",
              "  const steps = uploadFilesStep(inputId, outputId);\n",
              "  const outputElement = document.getElementById(outputId);\n",
              "  // Cache steps on the outputElement to make it available for the next call\n",
              "  // to uploadFilesContinue from Python.\n",
              "  outputElement.steps = steps;\n",
              "\n",
              "  return _uploadFilesContinue(outputId);\n",
              "}\n",
              "\n",
              "// This is roughly an async generator (not supported in the browser yet),\n",
              "// where there are multiple asynchronous steps and the Python side is going\n",
              "// to poll for completion of each step.\n",
              "// This uses a Promise to block the python side on completion of each step,\n",
              "// then passes the result of the previous step as the input to the next step.\n",
              "function _uploadFilesContinue(outputId) {\n",
              "  const outputElement = document.getElementById(outputId);\n",
              "  const steps = outputElement.steps;\n",
              "\n",
              "  const next = steps.next(outputElement.lastPromiseValue);\n",
              "  return Promise.resolve(next.value.promise).then((value) => {\n",
              "    // Cache the last promise value to make it available to the next\n",
              "    // step of the generator.\n",
              "    outputElement.lastPromiseValue = value;\n",
              "    return next.value.response;\n",
              "  });\n",
              "}\n",
              "\n",
              "/**\n",
              " * Generator function which is called between each async step of the upload\n",
              " * process.\n",
              " * @param {string} inputId Element ID of the input file picker element.\n",
              " * @param {string} outputId Element ID of the output display.\n",
              " * @return {!Iterable<!Object>} Iterable of next steps.\n",
              " */\n",
              "function* uploadFilesStep(inputId, outputId) {\n",
              "  const inputElement = document.getElementById(inputId);\n",
              "  inputElement.disabled = false;\n",
              "\n",
              "  const outputElement = document.getElementById(outputId);\n",
              "  outputElement.innerHTML = '';\n",
              "\n",
              "  const pickedPromise = new Promise((resolve) => {\n",
              "    inputElement.addEventListener('change', (e) => {\n",
              "      resolve(e.target.files);\n",
              "    });\n",
              "  });\n",
              "\n",
              "  const cancel = document.createElement('button');\n",
              "  inputElement.parentElement.appendChild(cancel);\n",
              "  cancel.textContent = 'Cancel upload';\n",
              "  const cancelPromise = new Promise((resolve) => {\n",
              "    cancel.onclick = () => {\n",
              "      resolve(null);\n",
              "    };\n",
              "  });\n",
              "\n",
              "  // Wait for the user to pick the files.\n",
              "  const files = yield {\n",
              "    promise: Promise.race([pickedPromise, cancelPromise]),\n",
              "    response: {\n",
              "      action: 'starting',\n",
              "    }\n",
              "  };\n",
              "\n",
              "  cancel.remove();\n",
              "\n",
              "  // Disable the input element since further picks are not allowed.\n",
              "  inputElement.disabled = true;\n",
              "\n",
              "  if (!files) {\n",
              "    return {\n",
              "      response: {\n",
              "        action: 'complete',\n",
              "      }\n",
              "    };\n",
              "  }\n",
              "\n",
              "  for (const file of files) {\n",
              "    const li = document.createElement('li');\n",
              "    li.append(span(file.name, {fontWeight: 'bold'}));\n",
              "    li.append(span(\n",
              "        `(${file.type || 'n/a'}) - ${file.size} bytes, ` +\n",
              "        `last modified: ${\n",
              "            file.lastModifiedDate ? file.lastModifiedDate.toLocaleDateString() :\n",
              "                                    'n/a'} - `));\n",
              "    const percent = span('0% done');\n",
              "    li.appendChild(percent);\n",
              "\n",
              "    outputElement.appendChild(li);\n",
              "\n",
              "    const fileDataPromise = new Promise((resolve) => {\n",
              "      const reader = new FileReader();\n",
              "      reader.onload = (e) => {\n",
              "        resolve(e.target.result);\n",
              "      };\n",
              "      reader.readAsArrayBuffer(file);\n",
              "    });\n",
              "    // Wait for the data to be ready.\n",
              "    let fileData = yield {\n",
              "      promise: fileDataPromise,\n",
              "      response: {\n",
              "        action: 'continue',\n",
              "      }\n",
              "    };\n",
              "\n",
              "    // Use a chunked sending to avoid message size limits. See b/62115660.\n",
              "    let position = 0;\n",
              "    do {\n",
              "      const length = Math.min(fileData.byteLength - position, MAX_PAYLOAD_SIZE);\n",
              "      const chunk = new Uint8Array(fileData, position, length);\n",
              "      position += length;\n",
              "\n",
              "      const base64 = btoa(String.fromCharCode.apply(null, chunk));\n",
              "      yield {\n",
              "        response: {\n",
              "          action: 'append',\n",
              "          file: file.name,\n",
              "          data: base64,\n",
              "        },\n",
              "      };\n",
              "\n",
              "      let percentDone = fileData.byteLength === 0 ?\n",
              "          100 :\n",
              "          Math.round((position / fileData.byteLength) * 100);\n",
              "      percent.textContent = `${percentDone}% done`;\n",
              "\n",
              "    } while (position < fileData.byteLength);\n",
              "  }\n",
              "\n",
              "  // All done.\n",
              "  yield {\n",
              "    response: {\n",
              "      action: 'complete',\n",
              "    }\n",
              "  };\n",
              "}\n",
              "\n",
              "scope.google = scope.google || {};\n",
              "scope.google.colab = scope.google.colab || {};\n",
              "scope.google.colab._files = {\n",
              "  _uploadFiles,\n",
              "  _uploadFilesContinue,\n",
              "};\n",
              "})(self);\n",
              "</script> "
            ]
          },
          "metadata": {}
        },
        {
          "output_type": "stream",
          "name": "stdout",
          "text": [
            "Saving kaggle.json to kaggle (2).json\n"
          ]
        }
      ],
      "source": [
        "# upload kaggle.json\n",
        "from google.colab import files\n",
        "upload = files.upload()"
      ]
    },
    {
      "cell_type": "code",
      "source": [
        "# create kaggle hidden file in root directory and copy kaggle.json there\n",
        "! pip install kaggle\n",
        "! mkdir ~/.kaggle\n",
        "! cp kaggle.json ~/.kaggle/\n",
        "! chmod 600 ~/.kaggle/kaggle.json"
      ],
      "metadata": {
        "id": "Lt4fwwY5mjn3",
        "colab": {
          "base_uri": "https://localhost:8080/"
        },
        "outputId": "bfde117d-d4d9-439b-980d-095282e5d5d7"
      },
      "execution_count": null,
      "outputs": [
        {
          "output_type": "stream",
          "name": "stdout",
          "text": [
            "Looking in indexes: https://pypi.org/simple, https://us-python.pkg.dev/colab-wheels/public/simple/\n",
            "Requirement already satisfied: kaggle in /usr/local/lib/python3.9/dist-packages (1.5.13)\n",
            "Requirement already satisfied: urllib3 in /usr/local/lib/python3.9/dist-packages (from kaggle) (1.26.15)\n",
            "Requirement already satisfied: python-slugify in /usr/local/lib/python3.9/dist-packages (from kaggle) (8.0.1)\n",
            "Requirement already satisfied: tqdm in /usr/local/lib/python3.9/dist-packages (from kaggle) (4.65.0)\n",
            "Requirement already satisfied: python-dateutil in /usr/local/lib/python3.9/dist-packages (from kaggle) (2.8.2)\n",
            "Requirement already satisfied: certifi in /usr/local/lib/python3.9/dist-packages (from kaggle) (2022.12.7)\n",
            "Requirement already satisfied: requests in /usr/local/lib/python3.9/dist-packages (from kaggle) (2.27.1)\n",
            "Requirement already satisfied: six>=1.10 in /usr/local/lib/python3.9/dist-packages (from kaggle) (1.16.0)\n",
            "Requirement already satisfied: text-unidecode>=1.3 in /usr/local/lib/python3.9/dist-packages (from python-slugify->kaggle) (1.3)\n",
            "Requirement already satisfied: charset-normalizer~=2.0.0 in /usr/local/lib/python3.9/dist-packages (from requests->kaggle) (2.0.12)\n",
            "Requirement already satisfied: idna<4,>=2.5 in /usr/local/lib/python3.9/dist-packages (from requests->kaggle) (3.4)\n",
            "mkdir: cannot create directory ‘/root/.kaggle’: File exists\n"
          ]
        }
      ]
    },
    {
      "cell_type": "code",
      "source": [
        "# download kaggle dataset\n",
        "! kaggle datasets download jacobvs/ddos-attack-network-logs"
      ],
      "metadata": {
        "id": "SrRQ2Donm67q",
        "colab": {
          "base_uri": "https://localhost:8080/"
        },
        "outputId": "feed5e9f-e95f-44b9-8844-01ed24970298"
      },
      "execution_count": null,
      "outputs": [
        {
          "output_type": "stream",
          "name": "stdout",
          "text": [
            "ddos-attack-network-logs.zip: Skipping, found more recently modified local copy (use --force to force download)\n"
          ]
        }
      ]
    },
    {
      "cell_type": "code",
      "source": [
        "# unzip kaggle datsaet\n",
        "! unzip ddos-attack-network-logs.zip"
      ],
      "metadata": {
        "id": "fWWDebyxok6A",
        "colab": {
          "base_uri": "https://localhost:8080/"
        },
        "outputId": "bb915012-4a61-407e-f32f-c96fb505214f"
      },
      "execution_count": null,
      "outputs": [
        {
          "output_type": "stream",
          "name": "stdout",
          "text": [
            "Archive:  ddos-attack-network-logs.zip\n",
            "replace final-dataset-short.arff? [y]es, [n]o, [A]ll, [N]one, [r]ename: y\n",
            "  inflating: final-dataset-short.arff  \n",
            "replace final-dataset.arff? [y]es, [n]o, [A]ll, [N]one, [r]ename: y\n",
            "  inflating: final-dataset.arff      \n"
          ]
        }
      ]
    },
    {
      "cell_type": "code",
      "source": [
        "# ! pip install liac-arff\n",
        "import pandas as pd\n",
        "import tensorflow as tf\n",
        "# from scipy.io import arff\n",
        "import arff\n",
        "import numpy as np"
      ],
      "metadata": {
        "id": "cqMXx_pvplQh",
        "colab": {
          "base_uri": "https://localhost:8080/"
        },
        "outputId": "f9ac29b8-aae2-4be1-a891-5b92fde78551"
      },
      "execution_count": null,
      "outputs": [
        {
          "output_type": "stream",
          "name": "stdout",
          "text": [
            "Looking in indexes: https://pypi.org/simple, https://us-python.pkg.dev/colab-wheels/public/simple/\n",
            "Requirement already satisfied: liac-arff in /usr/local/lib/python3.9/dist-packages (2.5.0)\n"
          ]
        }
      ]
    },
    {
      "cell_type": "code",
      "source": [
        "# long_data = arff.loadarff('final-dataset.arff')"
      ],
      "metadata": {
        "id": "J4JxAqKfpoSZ"
      },
      "execution_count": null,
      "outputs": []
    },
    {
      "cell_type": "code",
      "source": [
        "decoder = arff.ArffDecoder()\n",
        "data_file = open('final-dataset.arff', 'r')\n",
        "raw_data = decoder.decode(data_file, encode_nominal=True)"
      ],
      "metadata": {
        "id": "rigbV7u-UrHO"
      },
      "execution_count": null,
      "outputs": []
    },
    {
      "cell_type": "code",
      "source": [
        "# separate data and labels\n",
        "data = [row[0:-1] for row in raw_data['data']]\n",
        "label = [row[-1] for row in raw_data['data']]\n",
        "\n",
        "# label = [1 if row > 0 else 0 for row in label]\n",
        "\n",
        "# 80-train, 10-validation, 10-test\n",
        "train_data = np.asarray(data[0 : int(len(data) * 0.8)])\n",
        "valid_data = np.asarray(data[int(len(data) * 0.8) : int(len(data) * 0.9)])\n",
        "test_data = np.asarray(data[int(len(data) * 0.9) : ])\n",
        "\n",
        "train_label = np.asarray(label[0 : int(len(label) * 0.8)])\n",
        "valid_label = np.asarray(label[int(len(label) * 0.8) : int(len(label) * 0.9)])\n",
        "test_label = np.asarray(label[int(len(label) * 0.9) : ])\n",
        "\n",
        "train_label = tf.keras.utils.to_categorical(train_label, 5)\n",
        "valid_label = tf.keras.utils.to_categorical(valid_label, 5)\n",
        "test_label = tf.keras.utils.to_categorical(test_label, 5)"
      ],
      "metadata": {
        "id": "xybB73pwQ6m5"
      },
      "execution_count": null,
      "outputs": []
    },
    {
      "cell_type": "code",
      "source": [
        "input_size = len(train_data[0])\n",
        "output_size = len(set(label))\n",
        "hidden_layer_size = 75\n",
        "ACT_FN = 'relu'\n",
        "\n",
        "model = tf.keras.Sequential([\n",
        "          tf.keras.layers.Dense(30, input_dim=input_size, kernel_initializer='uniform', activation='relu'), # input layer\n",
        "\n",
        "          tf.keras.layers.Dense(hidden_layer_size, activation=ACT_FN), # 1st hidden layer\n",
        "          tf.keras.layers.Dense(hidden_layer_size, activation=ACT_FN), # 2nd hidden layer\n",
        "          tf.keras.layers.Dense(hidden_layer_size, activation=ACT_FN), # 3nd hidden layer\n",
        "          tf.keras.layers.Dense(hidden_layer_size, activation=ACT_FN), # 4nd hidden layer\n",
        "          # tf.keras.layers.Dense(hidden_layer_size, activation=ACT_FN), # 5nd hidden layer\n",
        "          # tf.keras.layers.Dense(hidden_layer_size, activation=ACT_FN), # 6nd hidden layer\n",
        "          # tf.keras.layers.Dense(hidden_layer_size, activation=ACT_FN), # 7nd hidden layer\n",
        "          # tf.keras.layers.Dense(hidden_layer_size, activation=ACT_FN), # 8nd hidden layer   \n",
        "\n",
        "          tf.keras.layers.Dense(output_size, activation='softmax') # output layer\n",
        "])\n",
        "\n",
        "print(model.summary())"
      ],
      "metadata": {
        "colab": {
          "base_uri": "https://localhost:8080/"
        },
        "id": "BzkGUJSwdLp7",
        "outputId": "dc9ad0b2-f6b1-4581-b869-1aeb84885b2c"
      },
      "execution_count": null,
      "outputs": [
        {
          "output_type": "stream",
          "name": "stdout",
          "text": [
            "Model: \"sequential_20\"\n",
            "_________________________________________________________________\n",
            " Layer (type)                Output Shape              Param #   \n",
            "=================================================================\n",
            " dense_124 (Dense)           (None, 30)                840       \n",
            "                                                                 \n",
            " dense_125 (Dense)           (None, 75)                2325      \n",
            "                                                                 \n",
            " dense_126 (Dense)           (None, 75)                5700      \n",
            "                                                                 \n",
            " dense_127 (Dense)           (None, 75)                5700      \n",
            "                                                                 \n",
            " dense_128 (Dense)           (None, 75)                5700      \n",
            "                                                                 \n",
            " dense_129 (Dense)           (None, 5)                 380       \n",
            "                                                                 \n",
            "=================================================================\n",
            "Total params: 20,645\n",
            "Trainable params: 20,645\n",
            "Non-trainable params: 0\n",
            "_________________________________________________________________\n",
            "None\n"
          ]
        }
      ]
    },
    {
      "cell_type": "code",
      "source": [
        "model.compile(optimizer='adam', loss='categorical_crossentropy', metrics=['accuracy'])\n",
        "# custom_opt = tf.keras.optimizers.SGD(learning_rate=0.0001) \n",
        "# model.compile(optimizer=custom_opt , loss='sparse_categorical_crossentropy', metrics=['accuracy'])"
      ],
      "metadata": {
        "id": "0FYsTcLTiYKx"
      },
      "execution_count": null,
      "outputs": []
    },
    {
      "cell_type": "code",
      "source": [
        "from keras.callbacks import TensorBoard\n",
        "early_stopping = tf.keras.callbacks.EarlyStopping(patience=5)\n",
        "max_epochs = 4\n",
        "BATCH_SIZE = 2"
      ],
      "metadata": {
        "id": "z0ue1Az3iclo"
      },
      "execution_count": null,
      "outputs": []
    },
    {
      "cell_type": "code",
      "source": [
        "model.fit(train_data,\n",
        "          train_label,\n",
        "          # batch_size=BATCH_SIZE,\n",
        "          epochs=max_epochs,\n",
        "          # callbacks=tb,\n",
        "          validation_data=(valid_data, valid_label),\n",
        "          validation_steps=10,\n",
        "          verbose=1\n",
        "          )"
      ],
      "metadata": {
        "colab": {
          "base_uri": "https://localhost:8080/"
        },
        "id": "727k2o2xieKu",
        "outputId": "91b2e8eb-6023-497c-89b9-9d042e0b5c3c"
      },
      "execution_count": null,
      "outputs": [
        {
          "output_type": "stream",
          "name": "stdout",
          "text": [
            "Epoch 1/4\n",
            "54017/54017 [==============================] - 152s 3ms/step - loss: 11.9546 - accuracy: 0.9084 - val_loss: 0.3774 - val_accuracy: 0.8966\n",
            "Epoch 2/4\n",
            "54017/54017 [==============================] - 151s 3ms/step - loss: 0.3863 - accuracy: 0.8960 - val_loss: 0.3776 - val_accuracy: 0.8966\n",
            "Epoch 3/4\n",
            "54017/54017 [==============================] - 150s 3ms/step - loss: 0.3829 - accuracy: 0.8960 - val_loss: 0.3776 - val_accuracy: 0.8966\n",
            "Epoch 4/4\n",
            "54017/54017 [==============================] - 151s 3ms/step - loss: 0.3797 - accuracy: 0.8960 - val_loss: 0.3775 - val_accuracy: 0.8966\n"
          ]
        },
        {
          "output_type": "execute_result",
          "data": {
            "text/plain": [
              "<keras.callbacks.History at 0x7f4896d95610>"
            ]
          },
          "metadata": {},
          "execution_count": 136
        }
      ]
    },
    {
      "cell_type": "code",
      "source": [
        "test_loss, test_accuracy = model.evaluate(test_data, test_label)"
      ],
      "metadata": {
        "colab": {
          "base_uri": "https://localhost:8080/"
        },
        "id": "h7HmvX0OinRT",
        "outputId": "f3e85464-a384-4316-c532-62b5db0a1e62"
      },
      "execution_count": null,
      "outputs": [
        {
          "output_type": "stream",
          "name": "stdout",
          "text": [
            "6753/6753 [==============================] - 13s 2ms/step - loss: 0.3795 - accuracy: 0.8956\n"
          ]
        }
      ]
    },
    {
      "cell_type": "code",
      "source": [
        "print('Test loss: {0:.2f}. Test accuracy: {1:.2f}%'.format(test_loss, test_accuracy*100.))"
      ],
      "metadata": {
        "colab": {
          "base_uri": "https://localhost:8080/"
        },
        "id": "eQGvpa-oitVH",
        "outputId": "b9ff42e5-e3fc-4b3e-f109-e3a5d3a40143"
      },
      "execution_count": null,
      "outputs": [
        {
          "output_type": "stream",
          "name": "stdout",
          "text": [
            "Test loss: 0.38. Test accuracy: 89.56%\n"
          ]
        }
      ]
    }
  ]
}