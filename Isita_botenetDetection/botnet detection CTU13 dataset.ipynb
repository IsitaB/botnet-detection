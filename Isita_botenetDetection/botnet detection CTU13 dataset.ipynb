{
 "cells": [
  {
   "cell_type": "code",
   "execution_count": 3,
   "metadata": {},
   "outputs": [],
   "source": [
    "import pandas as pd\n",
    "import matplotlib.pyplot as plt\n",
    "import numpy as np\n",
    "import pickle\n",
    "\n",
    "from sklearn.model_selection import train_test_split\n",
    "from sklearn.preprocessing import OneHotEncoder, StandardScaler, LabelEncoder\n",
    "from sklearn.compose import ColumnTransformer\n",
    "from sklearn.impute import SimpleImputer\n",
    "from sklearn.pipeline import Pipeline\n",
    "from sklearn.metrics import accuracy_score, classification_report, roc_auc_score"
   ]
  },
  {
   "cell_type": "code",
   "execution_count": 4,
   "metadata": {},
   "outputs": [],
   "source": [
    "import xgboost as xgb"
   ]
  },
  {
   "cell_type": "code",
   "execution_count": 5,
   "metadata": {},
   "outputs": [],
   "source": [
    "normal_df = pd.read_csv('./data/CTU13_Normal_Traffic.csv')\n",
    "attack_df = pd.read_csv('./data/CTU13_Attack_Traffic.csv')"
   ]
  },
  {
   "cell_type": "code",
   "execution_count": 6,
   "metadata": {},
   "outputs": [
    {
     "data": {
      "text/html": [
       "<div>\n",
       "<style scoped>\n",
       "    .dataframe tbody tr th:only-of-type {\n",
       "        vertical-align: middle;\n",
       "    }\n",
       "\n",
       "    .dataframe tbody tr th {\n",
       "        vertical-align: top;\n",
       "    }\n",
       "\n",
       "    .dataframe thead th {\n",
       "        text-align: right;\n",
       "    }\n",
       "</style>\n",
       "<table border=\"1\" class=\"dataframe\">\n",
       "  <thead>\n",
       "    <tr style=\"text-align: right;\">\n",
       "      <th></th>\n",
       "      <th>Unnamed: 0</th>\n",
       "      <th>Flow Duration</th>\n",
       "      <th>Tot Fwd Pkts</th>\n",
       "      <th>Tot Bwd Pkts</th>\n",
       "      <th>TotLen Fwd Pkts</th>\n",
       "      <th>TotLen Bwd Pkts</th>\n",
       "      <th>Fwd Pkt Len Max</th>\n",
       "      <th>Fwd Pkt Len Min</th>\n",
       "      <th>Fwd Pkt Len Mean</th>\n",
       "      <th>Fwd Pkt Len Std</th>\n",
       "      <th>...</th>\n",
       "      <th>Fwd Act Data Pkts</th>\n",
       "      <th>Active Mean</th>\n",
       "      <th>Active Std</th>\n",
       "      <th>Active Max</th>\n",
       "      <th>Active Min</th>\n",
       "      <th>Idle Mean</th>\n",
       "      <th>Idle Std</th>\n",
       "      <th>Idle Max</th>\n",
       "      <th>Idle Min</th>\n",
       "      <th>Label</th>\n",
       "    </tr>\n",
       "  </thead>\n",
       "  <tbody>\n",
       "    <tr>\n",
       "      <th>0</th>\n",
       "      <td>0</td>\n",
       "      <td>891</td>\n",
       "      <td>0</td>\n",
       "      <td>2</td>\n",
       "      <td>0</td>\n",
       "      <td>348</td>\n",
       "      <td>0</td>\n",
       "      <td>0</td>\n",
       "      <td>0.0</td>\n",
       "      <td>0.0</td>\n",
       "      <td>...</td>\n",
       "      <td>0</td>\n",
       "      <td>0.0</td>\n",
       "      <td>0.0</td>\n",
       "      <td>0</td>\n",
       "      <td>0</td>\n",
       "      <td>0.0</td>\n",
       "      <td>0.0</td>\n",
       "      <td>0</td>\n",
       "      <td>0</td>\n",
       "      <td>0</td>\n",
       "    </tr>\n",
       "    <tr>\n",
       "      <th>1</th>\n",
       "      <td>1</td>\n",
       "      <td>20835</td>\n",
       "      <td>0</td>\n",
       "      <td>2</td>\n",
       "      <td>0</td>\n",
       "      <td>266</td>\n",
       "      <td>0</td>\n",
       "      <td>0</td>\n",
       "      <td>0.0</td>\n",
       "      <td>0.0</td>\n",
       "      <td>...</td>\n",
       "      <td>0</td>\n",
       "      <td>0.0</td>\n",
       "      <td>0.0</td>\n",
       "      <td>0</td>\n",
       "      <td>0</td>\n",
       "      <td>0.0</td>\n",
       "      <td>0.0</td>\n",
       "      <td>0</td>\n",
       "      <td>0</td>\n",
       "      <td>0</td>\n",
       "    </tr>\n",
       "    <tr>\n",
       "      <th>2</th>\n",
       "      <td>2</td>\n",
       "      <td>545</td>\n",
       "      <td>0</td>\n",
       "      <td>2</td>\n",
       "      <td>0</td>\n",
       "      <td>442</td>\n",
       "      <td>0</td>\n",
       "      <td>0</td>\n",
       "      <td>0.0</td>\n",
       "      <td>0.0</td>\n",
       "      <td>...</td>\n",
       "      <td>0</td>\n",
       "      <td>0.0</td>\n",
       "      <td>0.0</td>\n",
       "      <td>0</td>\n",
       "      <td>0</td>\n",
       "      <td>0.0</td>\n",
       "      <td>0.0</td>\n",
       "      <td>0</td>\n",
       "      <td>0</td>\n",
       "      <td>0</td>\n",
       "    </tr>\n",
       "    <tr>\n",
       "      <th>3</th>\n",
       "      <td>3</td>\n",
       "      <td>83892</td>\n",
       "      <td>0</td>\n",
       "      <td>2</td>\n",
       "      <td>0</td>\n",
       "      <td>194</td>\n",
       "      <td>0</td>\n",
       "      <td>0</td>\n",
       "      <td>0.0</td>\n",
       "      <td>0.0</td>\n",
       "      <td>...</td>\n",
       "      <td>0</td>\n",
       "      <td>0.0</td>\n",
       "      <td>0.0</td>\n",
       "      <td>0</td>\n",
       "      <td>0</td>\n",
       "      <td>0.0</td>\n",
       "      <td>0.0</td>\n",
       "      <td>0</td>\n",
       "      <td>0</td>\n",
       "      <td>0</td>\n",
       "    </tr>\n",
       "    <tr>\n",
       "      <th>4</th>\n",
       "      <td>4</td>\n",
       "      <td>608</td>\n",
       "      <td>0</td>\n",
       "      <td>2</td>\n",
       "      <td>0</td>\n",
       "      <td>480</td>\n",
       "      <td>0</td>\n",
       "      <td>0</td>\n",
       "      <td>0.0</td>\n",
       "      <td>0.0</td>\n",
       "      <td>...</td>\n",
       "      <td>0</td>\n",
       "      <td>0.0</td>\n",
       "      <td>0.0</td>\n",
       "      <td>0</td>\n",
       "      <td>0</td>\n",
       "      <td>0.0</td>\n",
       "      <td>0.0</td>\n",
       "      <td>0</td>\n",
       "      <td>0</td>\n",
       "      <td>0</td>\n",
       "    </tr>\n",
       "  </tbody>\n",
       "</table>\n",
       "<p>5 rows × 59 columns</p>\n",
       "</div>"
      ],
      "text/plain": [
       "   Unnamed: 0  Flow Duration  Tot Fwd Pkts  Tot Bwd Pkts  TotLen Fwd Pkts  \\\n",
       "0           0            891             0             2                0   \n",
       "1           1          20835             0             2                0   \n",
       "2           2            545             0             2                0   \n",
       "3           3          83892             0             2                0   \n",
       "4           4            608             0             2                0   \n",
       "\n",
       "   TotLen Bwd Pkts  Fwd Pkt Len Max  Fwd Pkt Len Min  Fwd Pkt Len Mean  \\\n",
       "0              348                0                0               0.0   \n",
       "1              266                0                0               0.0   \n",
       "2              442                0                0               0.0   \n",
       "3              194                0                0               0.0   \n",
       "4              480                0                0               0.0   \n",
       "\n",
       "   Fwd Pkt Len Std  ...  Fwd Act Data Pkts  Active Mean  Active Std  \\\n",
       "0              0.0  ...                  0          0.0         0.0   \n",
       "1              0.0  ...                  0          0.0         0.0   \n",
       "2              0.0  ...                  0          0.0         0.0   \n",
       "3              0.0  ...                  0          0.0         0.0   \n",
       "4              0.0  ...                  0          0.0         0.0   \n",
       "\n",
       "   Active Max  Active Min  Idle Mean  Idle Std  Idle Max  Idle Min  Label  \n",
       "0           0           0        0.0       0.0         0         0      0  \n",
       "1           0           0        0.0       0.0         0         0      0  \n",
       "2           0           0        0.0       0.0         0         0      0  \n",
       "3           0           0        0.0       0.0         0         0      0  \n",
       "4           0           0        0.0       0.0         0         0      0  \n",
       "\n",
       "[5 rows x 59 columns]"
      ]
     },
     "execution_count": 6,
     "metadata": {},
     "output_type": "execute_result"
    }
   ],
   "source": [
    "df = pd.concat([normal_df, attack_df],ignore_index=False)\n",
    "df.head()"
   ]
  },
  {
   "cell_type": "code",
   "execution_count": 7,
   "metadata": {},
   "outputs": [
    {
     "name": "stdout",
     "output_type": "stream",
     "text": [
      "<class 'pandas.core.frame.DataFrame'>\n",
      "Int64Index: 92212 entries, 0 to 38897\n",
      "Data columns (total 59 columns):\n",
      " #   Column             Non-Null Count  Dtype  \n",
      "---  ------             --------------  -----  \n",
      " 0   Unnamed: 0         92212 non-null  int64  \n",
      " 1   Flow Duration      92212 non-null  int64  \n",
      " 2   Tot Fwd Pkts       92212 non-null  int64  \n",
      " 3   Tot Bwd Pkts       92212 non-null  int64  \n",
      " 4   TotLen Fwd Pkts    92212 non-null  int64  \n",
      " 5   TotLen Bwd Pkts    92212 non-null  int64  \n",
      " 6   Fwd Pkt Len Max    92212 non-null  int64  \n",
      " 7   Fwd Pkt Len Min    92212 non-null  int64  \n",
      " 8   Fwd Pkt Len Mean   92212 non-null  float64\n",
      " 9   Fwd Pkt Len Std    92212 non-null  float64\n",
      " 10  Bwd Pkt Len Max    92212 non-null  int64  \n",
      " 11  Bwd Pkt Len Min    92212 non-null  int64  \n",
      " 12  Bwd Pkt Len Mean   92212 non-null  float64\n",
      " 13  Bwd Pkt Len Std    92212 non-null  float64\n",
      " 14  Flow Byts/s        92212 non-null  float64\n",
      " 15  Flow Pkts/s        92212 non-null  float64\n",
      " 16  Flow IAT Mean      92212 non-null  float64\n",
      " 17  Flow IAT Std       92212 non-null  float64\n",
      " 18  Flow IAT Max       92212 non-null  int64  \n",
      " 19  Flow IAT Min       92212 non-null  int64  \n",
      " 20  Fwd IAT Tot        92212 non-null  int64  \n",
      " 21  Fwd IAT Mean       92212 non-null  float64\n",
      " 22  Fwd IAT Std        92212 non-null  float64\n",
      " 23  Fwd IAT Max        92212 non-null  int64  \n",
      " 24  Fwd IAT Min        92212 non-null  int64  \n",
      " 25  Bwd IAT Tot        92212 non-null  int64  \n",
      " 26  Bwd IAT Mean       92212 non-null  float64\n",
      " 27  Bwd IAT Std        92212 non-null  float64\n",
      " 28  Bwd IAT Max        92212 non-null  int64  \n",
      " 29  Bwd IAT Min        92212 non-null  int64  \n",
      " 30  Bwd PSH Flags      92212 non-null  int64  \n",
      " 31  Fwd Header Len     92212 non-null  int64  \n",
      " 32  Bwd Header Len     92212 non-null  int64  \n",
      " 33  Fwd Pkts/s         92212 non-null  float64\n",
      " 34  Bwd Pkts/s         92212 non-null  float64\n",
      " 35  Pkt Len Min        92212 non-null  int64  \n",
      " 36  Pkt Len Max        92212 non-null  int64  \n",
      " 37  Pkt Len Mean       92212 non-null  float64\n",
      " 38  Pkt Len Std        92212 non-null  float64\n",
      " 39  Pkt Len Var        92212 non-null  float64\n",
      " 40  FIN Flag Cnt       92212 non-null  int64  \n",
      " 41  SYN Flag Cnt       92212 non-null  int64  \n",
      " 42  RST Flag Cnt       92212 non-null  int64  \n",
      " 43  ACK Flag Cnt       92212 non-null  int64  \n",
      " 44  Down/Up Ratio      92212 non-null  int64  \n",
      " 45  Pkt Size Avg       92212 non-null  float64\n",
      " 46  Fwd Seg Size Avg   92212 non-null  float64\n",
      " 47  Bwd Seg Size Avg   92212 non-null  float64\n",
      " 48  Init Bwd Win Byts  92212 non-null  int64  \n",
      " 49  Fwd Act Data Pkts  92212 non-null  int64  \n",
      " 50  Active Mean        92212 non-null  float64\n",
      " 51  Active Std         92212 non-null  float64\n",
      " 52  Active Max         92212 non-null  int64  \n",
      " 53  Active Min         92212 non-null  int64  \n",
      " 54  Idle Mean          92212 non-null  float64\n",
      " 55  Idle Std           92212 non-null  float64\n",
      " 56  Idle Max           92212 non-null  int64  \n",
      " 57  Idle Min           92212 non-null  int64  \n",
      " 58  Label              92212 non-null  int64  \n",
      "dtypes: float64(24), int64(35)\n",
      "memory usage: 42.2 MB\n"
     ]
    }
   ],
   "source": [
    "df.info()"
   ]
  },
  {
   "cell_type": "code",
   "execution_count": 8,
   "metadata": {},
   "outputs": [
    {
     "data": {
      "text/plain": [
       "'\\nduration, total packets, total bytes, source bytes\\ncorresponds to\\nduration: flow duration\\ntotal packets: total fwd pkts + total bwd pkts\\ntotal bytes: Fwd Init Win bytes + Bwd Init Win bytes\\nsource bytes: Fwd Init Win bytes\\n'"
      ]
     },
     "execution_count": 8,
     "metadata": {},
     "output_type": "execute_result"
    }
   ],
   "source": [
    "'''\n",
    "duration, total packets, total bytes, source bytes\n",
    "corresponds to\n",
    "duration: flow duration\n",
    "total packets: total fwd pkts + total bwd pkts\n",
    "total bytes: Fwd Init Win bytes + Bwd Init Win bytes\n",
    "source bytes: Fwd Init Win bytes\n",
    "'''"
   ]
  },
  {
   "cell_type": "code",
   "execution_count": 9,
   "metadata": {},
   "outputs": [],
   "source": [
    "def createPacketsSumColumn(row):\n",
    "    return row['Tot Fwd Pkts'] + row['Tot Bwd Pkts']\n",
    "\n",
    "def createTotalBytesColumn(row):\n",
    "    return row['Flow Byts/s'] * row['Flow Duration']"
   ]
  },
  {
   "cell_type": "code",
   "execution_count": 10,
   "metadata": {},
   "outputs": [],
   "source": [
    "df['totalPackets'] = df.apply(createPacketsSumColumn, axis=1)\n",
    "df['totalBytes'] = df.apply(createTotalBytesColumn, axis=1)\n",
    "df['sourceBytes'] = df['Init Bwd Win Byts']"
   ]
  },
  {
   "cell_type": "code",
   "execution_count": 11,
   "metadata": {},
   "outputs": [],
   "source": [
    "feature_df = df[['Flow Duration', 'totalPackets', 'totalBytes', 'sourceBytes','Label']].copy()"
   ]
  },
  {
   "cell_type": "code",
   "execution_count": 13,
   "metadata": {},
   "outputs": [],
   "source": [
    "X = feature_df.drop('Label', axis=1)\n",
    "y = feature_df.Label"
   ]
  },
  {
   "cell_type": "code",
   "execution_count": 14,
   "metadata": {},
   "outputs": [],
   "source": [
    "'''\n",
    "XGB how to Source: \n",
    "https://towardsdatascience.com/beginners-guide-to-xgboost-for-classification-problems-50f75aac5390\n",
    "'''\n",
    "numeric_pipeline = Pipeline(\n",
    "    steps=[(\"impute\", SimpleImputer(strategy=\"mean\")), \n",
    "           (\"scale\", StandardScaler())]\n",
    ")\n",
    "\n",
    "full_processor = ColumnTransformer(\n",
    "    transformers=[\n",
    "        (\"numeric\", numeric_pipeline, X.select_dtypes(include=\"number\").columns),\n",
    "    ]\n",
    ")"
   ]
  },
  {
   "cell_type": "code",
   "execution_count": 15,
   "metadata": {},
   "outputs": [
    {
     "name": "stdout",
     "output_type": "stream",
     "text": [
      "<class 'xgboost.sklearn.XGBClassifier'>\n"
     ]
    }
   ],
   "source": [
    "xgb_cl = xgb.XGBClassifier()\n",
    "print(type(xgb_cl))"
   ]
  },
  {
   "cell_type": "code",
   "execution_count": 16,
   "metadata": {},
   "outputs": [],
   "source": [
    "X_processed = full_processor.fit_transform(X)\n",
    "X_train, X_test, y_train, y_test = train_test_split(\n",
    "    X_processed, y, stratify=y, random_state=42, test_size=0.20\n",
    ")"
   ]
  },
  {
   "cell_type": "code",
   "execution_count": 17,
   "metadata": {},
   "outputs": [],
   "source": [
    "xgb_cl = xgb.XGBClassifier()\n",
    "xgb_cl.fit(X_train, y_train)\n",
    "preds = xgb_cl.predict(X_test)"
   ]
  },
  {
   "cell_type": "code",
   "execution_count": 18,
   "metadata": {},
   "outputs": [
    {
     "name": "stdout",
     "output_type": "stream",
     "text": [
      "0.9930054763324838\n",
      "              precision    recall  f1-score   support\n",
      "\n",
      "           0       0.99      0.99      0.99     10663\n",
      "           1       0.99      0.99      0.99      7780\n",
      "\n",
      "    accuracy                           0.99     18443\n",
      "   macro avg       0.99      0.99      0.99     18443\n",
      "weighted avg       0.99      0.99      0.99     18443\n",
      "\n"
     ]
    }
   ],
   "source": [
    "print(accuracy_score(y_test, preds))\n",
    "print(classification_report(y_test, preds))"
   ]
  },
  {
   "cell_type": "code",
   "execution_count": 19,
   "metadata": {},
   "outputs": [
    {
     "name": "stdout",
     "output_type": "stream",
     "text": [
      "0.9959332510946333\n",
      "              precision    recall  f1-score   support\n",
      "\n",
      "           0       1.00      1.00      1.00     42651\n",
      "           1       1.00      0.99      1.00     31118\n",
      "\n",
      "    accuracy                           1.00     73769\n",
      "   macro avg       1.00      1.00      1.00     73769\n",
      "weighted avg       1.00      1.00      1.00     73769\n",
      "\n"
     ]
    }
   ],
   "source": [
    "X_preds = xgb_cl.predict(X_train)\n",
    "print(accuracy_score(y_train, X_preds))\n",
    "print(classification_report(y_train, X_preds))"
   ]
  },
  {
   "cell_type": "code",
   "execution_count": 20,
   "metadata": {},
   "outputs": [],
   "source": [
    "pickle.dump(xgb_cl, open('xgbmodel.pkl', \"wb\"))"
   ]
  },
  {
   "cell_type": "code",
   "execution_count": null,
   "metadata": {},
   "outputs": [],
   "source": []
  }
 ],
 "metadata": {
  "kernelspec": {
   "display_name": "cs185c",
   "language": "python",
   "name": "cs185c"
  },
  "language_info": {
   "codemirror_mode": {
    "name": "ipython",
    "version": 3
   },
   "file_extension": ".py",
   "mimetype": "text/x-python",
   "name": "python",
   "nbconvert_exporter": "python",
   "pygments_lexer": "ipython3",
   "version": "3.7.9"
  }
 },
 "nbformat": 4,
 "nbformat_minor": 4
}
